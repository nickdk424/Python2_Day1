{
 "cells": [
  {
   "cell_type": "markdown",
   "metadata": {},
   "source": [
    "# OOP - Class & Composition"
   ]
  },
  {
   "cell_type": "markdown",
   "metadata": {},
   "source": [
    "Exercise 1: Create a Player class with a name, a position, and a speed attributes. Set the initial value of speed to 1 and create any necessary methods.\n",
    "Then, \n",
    "1. Create two Player objects and print information about both players.\n",
    "2. Assign 8 to player 1's speed\n",
    "3. print information about both players."
   ]
  },
  {
   "cell_type": "code",
   "execution_count": 13,
   "metadata": {},
   "outputs": [
    {
     "name": "stdout",
     "output_type": "stream",
     "text": [
      "Player Name: \tNick\n",
      "Position: \t1st\n",
      "Speed: \t\t1\n",
      "Player Name: \tJimbo\n",
      "Position: \t2nd\n",
      "Speed: \t\t1\n",
      "--------------------\n",
      "--------------------\n",
      "Player Name: \tNick\n",
      "Position: \t1st\n",
      "Speed: \t\t8\n",
      "Player Name: \tJimbo\n",
      "Position: \t2nd\n",
      "Speed: \t\t1\n"
     ]
    }
   ],
   "source": [
    "class Player:\n",
    "    \n",
    "    def __init__(self, name, position, speed):\n",
    "        \"\"\"attributes a name, a position and a speed\"\"\"\n",
    "        self.name = name\n",
    "        self.position = position\n",
    "        self.speed = 1\n",
    "    \n",
    "    def get_info(self):\n",
    "        print(f\"Player Name: \\t{self.name}\\nPosition: \\t{self.position}\\nSpeed: \\t\\t{self.speed}\")\n",
    "        \n",
    "player1 = Player(\"Nick\", \"1st\", 8)\n",
    "player2 = Player(\"Jimbo\", \"2nd\", 1)\n",
    "\n",
    "player1.get_info()\n",
    "player2.get_info()\n",
    "print(f'{\"-\"*20}\\n{\"-\"*20}')\n",
    "player1.speed = 8\n",
    "player1.get_info()\n",
    "player2.get_info()\n"
   ]
  },
  {
   "cell_type": "markdown",
   "metadata": {},
   "source": [
    "Exercise 2: Create a class called Rectangle with height and length attributes and has following methods: \n",
    "- perimeter() : returns a perimeter of a rectangle object\n",
    "- area() : returns an area of a rectangle object\n",
    "\n",
    "Then,\n",
    "1. create two instances of Rectangle class\n",
    "2. print each rectangle's perimeter and determine which rectangle has larger perimeter\n",
    "3. print each rectangle's area and determine which rectangle has larger area"
   ]
  },
  {
   "cell_type": "code",
   "execution_count": 20,
   "metadata": {},
   "outputs": [
    {
     "name": "stdout",
     "output_type": "stream",
     "text": [
      "Rectangle 1 has a perimeter of: 60\n",
      "Rectangle 2 has a perimeter of: 100\n",
      "Rectangle 2 has the larger perimeter\n",
      "====================\n",
      "Rectangle 1 has an area of: 200\n",
      "Rectangle 2 has an area of: 600\n",
      "Rectangle 2 has a larger area\n"
     ]
    }
   ],
   "source": [
    "class Rectangle:\n",
    "    \n",
    "    def __init__(self, height, length):\n",
    "        \"\"\"Rectangle with width and height\"\"\"\n",
    "        self.height = height\n",
    "        self.length = length\n",
    "    \n",
    "    def perimeter(self):\n",
    "        \"\"\"Return perimeter\"\"\"\n",
    "        return 2 * self.height + 2 * self.length\n",
    "    def area(self):\n",
    "        \"\"\"Returns area\"\"\"\n",
    "        return self.height * self.length\n",
    "    \n",
    "    def rect_info(self):\n",
    "        print(f'The Height is: {self.height}\\nThe Length is: {self.height}')\n",
    "        \n",
    "rectangle1 = Rectangle(10, 20)\n",
    "rectangle2 = Rectangle(20, 30)\n",
    "\n",
    "print(f'Rectangle 1 has a perimeter of: {rectangle1.perimeter()}')\n",
    "print(f'Rectangle 2 has a perimeter of: {rectangle2.perimeter()}')\n",
    "\n",
    "if rectangle1.perimeter() > rectangle2.perimeter():\n",
    "    print(\"Rectangle 1 has the larger perimeter\")\n",
    "else:\n",
    "    print(\"Rectangle 2 has the larger perimeter\")\n",
    "\n",
    "print(\"=\"*20)\n",
    "area1 = rectangle1.area()\n",
    "area2 = rectangle2.area()\n",
    "print(f'Rectangle 1 has an area of: {area1}')\n",
    "print(f'Rectangle 2 has an area of: {area2}')\n",
    "if area1 > area2:\n",
    "    print(\"Rectangle 1 has a larger area\")\n",
    "else:\n",
    "    print(\"Rectangle 2 has a larger area\")\n",
    "\n",
    "      "
   ]
  },
  {
   "cell_type": "markdown",
   "metadata": {},
   "source": [
    "Exercise 3: Create a class called Triangle with height and base attributes and has following methods:\n",
    "\n",
    "- perimeter() : returns a perimeter of a right triangle object\n",
    "- area() : returns an area of a right triangle object\n",
    "\n",
    "Then,\n",
    "\n",
    "- create two instances of Triangle class\n",
    "- print each triangle's perimeter and determine which triangle has larger perimeter\n",
    "- print each triangle's area and determine which triangle has larger area\n",
    "\n",
    "Use \n",
    "- perimeter of a right triangle = height + base + Square-Root((height \\** 2) + (base \\** 2)) \n",
    "- area of a right triangle = ( height * base ) / 2\n",
    "\n",
    "You'll need to <b>import math</b> library and use <b>math.sqrt()</b> function.\n",
    "\n"
   ]
  },
  {
   "cell_type": "code",
   "execution_count": 27,
   "metadata": {},
   "outputs": [
    {
     "name": "stdout",
     "output_type": "stream",
     "text": [
      "Triangle 1 has a perimeter of: 26.18\n",
      "Triangle 2 has a perimeter if 12.39\n",
      "Perimeter 1 is bigger\n",
      "Triangle 1 has an area of: 25.00\n",
      "Triangle 2 has an area of: 5.00\n",
      "Triangle 1 has a larger area\n"
     ]
    }
   ],
   "source": [
    "import math\n",
    "\n",
    "class Triangle:\n",
    "    \"\"\"Triangle object with base and height\"\"\"\n",
    "    def __init__(self, base, height):\n",
    "        self.base = base\n",
    "        self.height = height\n",
    "        \n",
    "    def perimeter(self):\n",
    "        \"\"\"returns perimeter\"\"\"\n",
    "        return self.base + self.height + math.sqrt(self.base**2 + self.height**2)\n",
    "    def area(self):\n",
    "        \"\"\"Returns area\"\"\"\n",
    "        return (self.base*self.height) / 2\n",
    "\n",
    "triangle1 = Triangle(5,10)\n",
    "triangle2 = Triangle(2, 5)\n",
    "\n",
    "perm1 = triangle1.perimeter()\n",
    "perm2 = triangle2.perimeter()\n",
    "print(f\"Triangle 1 has a perimeter of: {perm1:,.2f}\\nTriangle 2 has a perimeter if {perm2:,.2f}\")\n",
    "if perm1 > perm2:\n",
    "    print(\"Perimeter 1 is bigger\")\n",
    "else:\n",
    "    print(\"Perimeter 2 is bigger\")\n",
    "area1 = triangle1.area()\n",
    "area2 = triangle2.area()\n",
    "print(f\"Triangle 1 has an area of: {area1:,.2f}\\nTriangle 2 has an area of: {area2:,.2f}\")\n",
    "if area1 > area2:\n",
    "      print(\"Triangle 1 has a larger area\")\n",
    "else:\n",
    "      print(\"Triangle 2 has a larger area\")"
   ]
  },
  {
   "cell_type": "markdown",
   "metadata": {},
   "source": [
    "Exercise 4: Wrote a program that maintains a list of movies, and the user can list all the movies, add a movie to the list, or delete a movie from the list. All input/output are done at the program level, not at a class level.\n",
    "\n",
    "\n",
    "For Python 1 Day 3 Challenge Exercise, you wrote a program that maintains a list of movies, and the user can list all the movies, add a movie to the list, or delete a movie from the list. Modify that program to use a Movie object stores name, year, and genre of a movie. Create any method you need to access these attributes but your method can not use <b>print</b> function. Additionally, create a Movies class that stores a list of movies. Again, create any method you need to access these attributes but your method can not use <b>print</b> function. \n"
   ]
  },
  {
   "cell_type": "code",
   "execution_count": null,
   "metadata": {},
   "outputs": [
    {
     "name": "stdout",
     "output_type": "stream",
     "text": [
      "Welcome to the Movie List\n"
     ]
    },
    {
     "name": "stdin",
     "output_type": "stream",
     "text": [
      "Menu(please choose a number):\n",
      "    1. See Movie List\n",
      "    2. Add a movie to list\n",
      "    3. Delete a movie from list\n",
      "    4. Exit\n",
      " 1\n"
     ]
    },
    {
     "name": "stdout",
     "output_type": "stream",
     "text": [
      "Movie name:\tThe Fifth Element\n",
      "            print()\n",
      "Date:\t1997\n",
      "Genre:\tSci-Fi\n",
      "Movie name:\tUHF\n",
      "            print()\n",
      "Date:\t1989\n",
      "Genre:\tComedy\n"
     ]
    }
   ],
   "source": [
    "class Movie:\n",
    "    \"\"\"creates movie object with a name, date, genre attributes\"\"\"\n",
    "    def __init__(self, name, date, genre):\n",
    "        self.name = name\n",
    "        self.date = date\n",
    "        self.genre = genre\n",
    "\n",
    "class Movies:\n",
    "    \"\"\"Creates a list of movies\"\"\"\n",
    "    \n",
    "    def __init__(self):\n",
    "        self.movies = []\n",
    "\n",
    "    def movies_menu(self):\n",
    "        return self.movies\n",
    "\n",
    "    def add_movie(self, movie):\n",
    "        \"\"\"adds movie to end of list\"\"\"\n",
    "        self.movies.append(movie)\n",
    "    \n",
    "    def del_movie(self, name):\n",
    "        \"\"\"Pops movie by name\"\"\"\n",
    "        for movie in self.movies:\n",
    "            if name == movie.name:\n",
    "                self.movies.remove(movie)\n",
    "                break\n",
    "            \n",
    "\n",
    "fifth_element = Movie(\"The Fifth Element\", 1997, \"Sci-Fi\")\n",
    "uhf = Movie(\"UHF\", 1989, \"Comedy\")\n",
    "movie_list = Movies()\n",
    "movie_list.add_movie(fifth_element)\n",
    "movie_list.add_movie(uhf)\n",
    "print(\"Welcome to the Movie List\")\n",
    "menu = 0\n",
    "while menu != 4:\n",
    "    menu = int(input(\"\"\"Menu(please choose a number):\n",
    "    1. See Movie List\n",
    "    2. Add a movie to list\n",
    "    3. Delete a movie from list\n",
    "    4. Exit\\n\"\"\"))\n",
    "    if menu == 1:\n",
    "        for movie in movie_list.movies_menu():\n",
    "            print(f\"\"\"Movie name:\\t{movie.name}\",\n",
    "            Date:\\t{movie.date}\n",
    "            Genre:\\t{movie.genre}\"\"\")\n",
    "    elif menu == 2:\n",
    "        name = input(\"Please enter a movie name: \")\n",
    "        date = input(\"Please enter the movie year: \")\n",
    "        genre = input(\"Please enter the movie genre: \")\n",
    "        movie_list.add_movie(Movie(name, date ,genre))\n",
    "    elif menu == 3:\n",
    "        delete = input(\"Please enter name of movie to delete: \")\n",
    "        movie_list.del_movie(delete)\n",
    "        print(f\"{delete} was deleted.\")\n",
    "    else:\n",
    "        if menu == 4:\n",
    "            break\n",
    "        print(\"Please choose a number between 1 and 4\")"
   ]
  },
  {
   "cell_type": "markdown",
   "metadata": {},
   "source": [
    "Exercise 5: Create a class called Employee with \n",
    "- firstname,\n",
    "- lastname, \n",
    "- joined_date\n",
    "- active \n",
    "attributes and methods to retrieve each attribute.\n",
    "\n",
    "Also, create a class called Department with a dept_name and a list of Employee objects as its attribute.  \n",
    "\n",
    "Then, write a program to \n",
    "- add 10 or more employees\n",
    "- print all employees's information\n",
    "- print all active employees' fullname in an alphabetical order\n",
    "\n",
    "Create any methods you need but all print statements should be called from your program, not in your class method!"
   ]
  },
  {
   "cell_type": "code",
   "execution_count": 67,
   "metadata": {},
   "outputs": [
    {
     "ename": "AttributeError",
     "evalue": "'builtin_function_or_method' object has no attribute 'dept1'",
     "output_type": "error",
     "traceback": [
      "\u001b[1;31m---------------------------------------------------------------------------\u001b[0m",
      "\u001b[1;31mAttributeError\u001b[0m                            Traceback (most recent call last)",
      "\u001b[1;32m<ipython-input-67-5619e5ca598a>\u001b[0m in \u001b[0;36m<module>\u001b[1;34m\u001b[0m\n\u001b[0;32m     26\u001b[0m \u001b[0mdept1\u001b[0m\u001b[1;33m.\u001b[0m\u001b[0madd_employee\u001b[0m\u001b[1;33m(\u001b[0m\u001b[0memployee2\u001b[0m\u001b[1;33m)\u001b[0m\u001b[1;33m\u001b[0m\u001b[1;33m\u001b[0m\u001b[0m\n\u001b[0;32m     27\u001b[0m \u001b[1;33m\u001b[0m\u001b[0m\n\u001b[1;32m---> 28\u001b[1;33m \u001b[1;32mfor\u001b[0m \u001b[0mi\u001b[0m \u001b[1;32min\u001b[0m \u001b[0mrange\u001b[0m\u001b[1;33m(\u001b[0m\u001b[0mlen\u001b[0m\u001b[1;33m.\u001b[0m\u001b[0mdept1\u001b[0m\u001b[1;33m.\u001b[0m\u001b[0mlist\u001b[0m\u001b[1;33m(\u001b[0m\u001b[1;33m)\u001b[0m\u001b[1;33m)\u001b[0m\u001b[1;33m:\u001b[0m\u001b[1;33m\u001b[0m\u001b[1;33m\u001b[0m\u001b[0m\n\u001b[0m\u001b[0;32m     29\u001b[0m     \u001b[0mprint\u001b[0m\u001b[1;33m(\u001b[0m\u001b[1;34mf\"Name: {employee1.firstname} {employee1.lastname}\\nHire Date: {employee1.joined_date}\"\u001b[0m\u001b[1;33m)\u001b[0m\u001b[1;33m\u001b[0m\u001b[1;33m\u001b[0m\u001b[0m\n",
      "\u001b[1;31mAttributeError\u001b[0m: 'builtin_function_or_method' object has no attribute 'dept1'"
     ]
    }
   ],
   "source": [
    "class Employee:\n",
    "    \"\"\"Employee object with first name, last name, joined_date\"\"\"\n",
    "    def __init__(self, firstname, lastname, joined_date):\n",
    "        self.firstname = firstname\n",
    "        self.lastname = lastname\n",
    "        self.joined_date = joined_date\n",
    "    def add_employee(self):\n",
    "        self.append(Department(self.dept_name))\n",
    "        \n",
    "class Department:\n",
    "    \"\"\"Department Object with dept nane and list employees as attribute\"\"\"\n",
    "    def __init__(self, dept_name):\n",
    "        self.list = []\n",
    "        self.dept_name = dept_name\n",
    "        \n",
    "\n",
    "    def add_employee(self, employee):\n",
    "        self.list.append(employee)\n",
    "\n",
    "employee1 = Employee(\"Nick\", \"Moore\", \"10/26/2020\")\n",
    "employee2 = Employee(\"Monkey\", \"D. Luffy\", \"9/18/1989\")\n",
    "\n",
    "dept1 = Department(\"IT\")\n",
    "\n",
    "dept1.add_employee(employee1)\n",
    "dept1.add_employee(employee2)\n",
    "\n",
    "for i in range(len.dept1.list()):\n",
    "    print(f\"Name: {employee1.firstname} {employee1.lastname}\\nHire Date: {employee1.joined_date}\")"
   ]
  },
  {
   "cell_type": "code",
   "execution_count": null,
   "metadata": {},
   "outputs": [],
   "source": []
  }
 ],
 "metadata": {
  "kernelspec": {
   "display_name": "Python 3",
   "language": "python",
   "name": "python3"
  },
  "language_info": {
   "codemirror_mode": {
    "name": "ipython",
    "version": 3
   },
   "file_extension": ".py",
   "mimetype": "text/x-python",
   "name": "python",
   "nbconvert_exporter": "python",
   "pygments_lexer": "ipython3",
   "version": "3.8.3"
  }
 },
 "nbformat": 4,
 "nbformat_minor": 4
}
